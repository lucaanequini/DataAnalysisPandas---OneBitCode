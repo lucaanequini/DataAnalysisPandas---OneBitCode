{
 "cells": [
  {
   "cell_type": "code",
   "execution_count": 1,
   "metadata": {},
   "outputs": [],
   "source": [
    "import pandas as pd"
   ]
  },
  {
   "cell_type": "code",
   "execution_count": 2,
   "metadata": {},
   "outputs": [],
   "source": [
    "dados_titulos = {\n",
    "    'Real Madrid': 34,\n",
    "    'Barcelona': 26,\n",
    "    'Liverpool':19,\n",
    "    'Juventus':36,\n",
    "    'Bayern Munich':30\n",
    "}\n",
    "\n",
    "dados_anuais = {\n",
    "    'Real Madrid': [1956, 1957, 1958, 1959, 1960],\n",
    "    'Barcelona':[1992, 2006, 2009, 2011, 2015],\n",
    "    'Liverpool':[1977, 1978, 1981, 1984, 2005],\n",
    "    'Juventus':[1958, 1985, 1996, 2011, 2015],\n",
    "    'Bayern Munich':[1974, 1975, 1976, 2001, 2013]\n",
    "}"
   ]
  },
  {
   "cell_type": "code",
   "execution_count": 4,
   "metadata": {},
   "outputs": [
    {
     "name": "stdout",
     "output_type": "stream",
     "text": [
      "Real Madrid      34\n",
      "Barcelona        26\n",
      "Liverpool        19\n",
      "Juventus         36\n",
      "Bayern Munich    30\n",
      "dtype: int64 \n",
      "\n",
      "Real Madrid      [1956, 1957, 1958, 1959, 1960]\n",
      "Barcelona        [1992, 2006, 2009, 2011, 2015]\n",
      "Liverpool        [1977, 1978, 1981, 1984, 2005]\n",
      "Juventus         [1958, 1985, 1996, 2011, 2015]\n",
      "Bayern Munich    [1974, 1975, 1976, 2001, 2013]\n",
      "dtype: object\n"
     ]
    }
   ],
   "source": [
    "series_titulos = pd.Series(dados_titulos)\n",
    "series_anos = pd.Series(dados_anuais)\n",
    "\n",
    "print(series_titulos, '\\n')\n",
    "print(series_anos)"
   ]
  },
  {
   "cell_type": "code",
   "execution_count": 6,
   "metadata": {},
   "outputs": [
    {
     "name": "stdout",
     "output_type": "stream",
     "text": [
      "               Títulos                            Anos\n",
      "Real Madrid         34  [1956, 1957, 1958, 1959, 1960]\n",
      "Barcelona           26  [1992, 2006, 2009, 2011, 2015]\n",
      "Liverpool           19  [1977, 1978, 1981, 1984, 2005]\n",
      "Juventus            36  [1958, 1985, 1996, 2011, 2015]\n",
      "Bayern Munich       30  [1974, 1975, 1976, 2001, 2013]\n"
     ]
    }
   ],
   "source": [
    "#criando o dataframe\n",
    "data = {'Títulos': series_titulos, 'Anos': series_anos}\n",
    "dataframe_times = pd.DataFrame(data)\n",
    "print(dataframe_times)"
   ]
  },
  {
   "cell_type": "markdown",
   "metadata": {},
   "source": [
    "## Obtendo Insights"
   ]
  },
  {
   "cell_type": "code",
   "execution_count": 7,
   "metadata": {},
   "outputs": [
    {
     "name": "stdout",
     "output_type": "stream",
     "text": [
      "Média de Títulos: 29.0\n"
     ]
    }
   ],
   "source": [
    "#media de títulos\n",
    "media_titulos = dataframe_times['Títulos'].mean()\n",
    "print(f'Média de Títulos: {media_titulos}')"
   ]
  },
  {
   "cell_type": "code",
   "execution_count": 9,
   "metadata": {},
   "outputs": [
    {
     "name": "stdout",
     "output_type": "stream",
     "text": [
      "Time com mais títulos: Juventus com 36 títulos\n"
     ]
    }
   ],
   "source": [
    "#time com mais títulos\n",
    "mais_titulos = dataframe_times['Títulos'].idxmax()\n",
    "qtd_titulos = dataframe_times['Títulos'].max()\n",
    "print(f'Time com mais títulos: {mais_titulos} com {qtd_titulos} títulos')"
   ]
  },
  {
   "cell_type": "code",
   "execution_count": 10,
   "metadata": {},
   "outputs": [
    {
     "name": "stdout",
     "output_type": "stream",
     "text": [
      "Ano com mais títulos: 1958\n"
     ]
    }
   ],
   "source": [
    "#ano com mais titulos\n",
    "todos_anos = dataframe_times['Anos'].explode()\n",
    "ano_mais_titulos = todos_anos.mode()[0]\n",
    "print(f'Ano com mais títulos: {ano_mais_titulos}')"
   ]
  }
 ],
 "metadata": {
  "kernelspec": {
   "display_name": "base",
   "language": "python",
   "name": "python3"
  },
  "language_info": {
   "codemirror_mode": {
    "name": "ipython",
    "version": 3
   },
   "file_extension": ".py",
   "mimetype": "text/x-python",
   "name": "python",
   "nbconvert_exporter": "python",
   "pygments_lexer": "ipython3",
   "version": "3.11.7"
  }
 },
 "nbformat": 4,
 "nbformat_minor": 2
}
