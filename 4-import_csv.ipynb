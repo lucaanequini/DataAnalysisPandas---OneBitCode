{
 "cells": [
  {
   "cell_type": "code",
   "execution_count": 7,
   "metadata": {},
   "outputs": [],
   "source": [
    "import pandas as pd"
   ]
  },
  {
   "cell_type": "code",
   "execution_count": 8,
   "metadata": {},
   "outputs": [
    {
     "name": "stdout",
     "output_type": "stream",
     "text": [
      "     DataPedido        Regiao             Estado     Vendedor            Item  \\\n",
      "0    7-Jul-2019         Norte           Amazonas   João Silva            Mesa   \n",
      "1   10-Jul-2019           Sul  Rio Grande do Sul  Maria Souza         Cadeira   \n",
      "2   15-Jul-2019       Sudeste          São Paulo   Pedro Lima            Sofá   \n",
      "3   22-Jul-2019         Norte               Pará   João Silva            Cama   \n",
      "4   29-Jul-2019      Nordeste              Bahia   Ana Santos    Guarda-roupa   \n",
      "5    1-Ago-2019       Sudeste     Rio de Janeiro  Maria Souza          Cômoda   \n",
      "6    8-Ago-2019  Centro-Oeste              Goiás   Pedro Lima         Espelho   \n",
      "7   12-Ago-2019           Sul     Santa Catarina   Ana Santos  Mesa de Centro   \n",
      "8   19-Ago-2019         Norte           Amazonas   João Silva         Estante   \n",
      "9   21-Ago-2019           Sul  Rio Grande do Sul  Maria Souza     Criado-mudo   \n",
      "10  28-Ago-2019       Sudeste       Minas Gerais   Pedro Lima        Poltrona   \n",
      "11   3-Set-2019      Nordeste              Ceará   Ana Santos       Cabeceira   \n",
      "12  10-Set-2019  Centro-Oeste        Mato Grosso   João Silva           Banco   \n",
      "13  17-Set-2019           Sul             Paraná  Maria Souza       Luminária   \n",
      "14  24-Set-2019       Sudeste     Espírito Santo   Pedro Lima          Tapete   \n",
      "15   2-Out-2019         Norte           Rondônia   Ana Santos         Cortina   \n",
      "\n",
      "    Unidades  PrecoUnidade  \n",
      "0          2         150.5  \n",
      "1          4          50.0  \n",
      "2          1         800.0  \n",
      "3          3         200.0  \n",
      "4          2         450.0  \n",
      "5          1         300.0  \n",
      "6          5          75.0  \n",
      "7          2         120.0  \n",
      "8          1         280.0  \n",
      "9          2          80.0  \n",
      "10         2         350.0  \n",
      "11         2         100.0  \n",
      "12         4          50.0  \n",
      "13         3          60.0  \n",
      "14         2         120.0  \n",
      "15         4          80.0  \n"
     ]
    }
   ],
   "source": [
    "df = pd.read_csv('data/pedidos.csv')\n",
    "print(df)"
   ]
  },
  {
   "cell_type": "code",
   "execution_count": 9,
   "metadata": {},
   "outputs": [
    {
     "name": "stdout",
     "output_type": "stream",
     "text": [
      "    DataPedido        Regiao             Estado     Vendedor            Item  \\\n",
      "0   7-Jul-2019         Norte           Amazonas   João Silva            Mesa   \n",
      "1  10-Jul-2019           Sul  Rio Grande do Sul  Maria Souza         Cadeira   \n",
      "2  15-Jul-2019       Sudeste          São Paulo   Pedro Lima            Sofá   \n",
      "3  22-Jul-2019         Norte               Pará   João Silva            Cama   \n",
      "4  29-Jul-2019      Nordeste              Bahia   Ana Santos    Guarda-roupa   \n",
      "5   1-Ago-2019       Sudeste     Rio de Janeiro  Maria Souza          Cômoda   \n",
      "6   8-Ago-2019  Centro-Oeste              Goiás   Pedro Lima         Espelho   \n",
      "7  12-Ago-2019           Sul     Santa Catarina   Ana Santos  Mesa de Centro   \n",
      "8  19-Ago-2019         Norte           Amazonas   João Silva         Estante   \n",
      "9  21-Ago-2019           Sul  Rio Grande do Sul  Maria Souza     Criado-mudo   \n",
      "\n",
      "   Unidades  PrecoUnidade  \n",
      "0         2         150.5  \n",
      "1         4          50.0  \n",
      "2         1         800.0  \n",
      "3         3         200.0  \n",
      "4         2         450.0  \n",
      "5         1         300.0  \n",
      "6         5          75.0  \n",
      "7         2         120.0  \n",
      "8         1         280.0  \n",
      "9         2          80.0  \n"
     ]
    }
   ],
   "source": [
    "print(df.head(10))"
   ]
  },
  {
   "cell_type": "code",
   "execution_count": 10,
   "metadata": {},
   "outputs": [
    {
     "name": "stdout",
     "output_type": "stream",
     "text": [
      "     DataPedido        Regiao          Estado     Vendedor       Item  \\\n",
      "11   3-Set-2019      Nordeste           Ceará   Ana Santos  Cabeceira   \n",
      "12  10-Set-2019  Centro-Oeste     Mato Grosso   João Silva      Banco   \n",
      "13  17-Set-2019           Sul          Paraná  Maria Souza  Luminária   \n",
      "14  24-Set-2019       Sudeste  Espírito Santo   Pedro Lima     Tapete   \n",
      "15   2-Out-2019         Norte        Rondônia   Ana Santos    Cortina   \n",
      "\n",
      "    Unidades  PrecoUnidade  \n",
      "11         2         100.0  \n",
      "12         4          50.0  \n",
      "13         3          60.0  \n",
      "14         2         120.0  \n",
      "15         4          80.0  \n"
     ]
    }
   ],
   "source": [
    "print(df.tail())"
   ]
  },
  {
   "cell_type": "code",
   "execution_count": 11,
   "metadata": {},
   "outputs": [
    {
     "name": "stdout",
     "output_type": "stream",
     "text": [
      "(16, 7)\n"
     ]
    }
   ],
   "source": [
    "print(df.shape)"
   ]
  },
  {
   "cell_type": "code",
   "execution_count": 12,
   "metadata": {},
   "outputs": [
    {
     "name": "stdout",
     "output_type": "stream",
     "text": [
      "DataPedido       object\n",
      "Regiao           object\n",
      "Estado           object\n",
      "Vendedor         object\n",
      "Item             object\n",
      "Unidades          int64\n",
      "PrecoUnidade    float64\n",
      "dtype: object\n"
     ]
    }
   ],
   "source": [
    "print(df.dtypes)"
   ]
  },
  {
   "cell_type": "code",
   "execution_count": 13,
   "metadata": {},
   "outputs": [
    {
     "name": "stdout",
     "output_type": "stream",
     "text": [
      "     DataPedido        Regiao             Estado     Vendedor            Item  \\\n",
      "6    8-Ago-2019  Centro-Oeste              Goiás   Pedro Lima         Espelho   \n",
      "1   10-Jul-2019           Sul  Rio Grande do Sul  Maria Souza         Cadeira   \n",
      "12  10-Set-2019  Centro-Oeste        Mato Grosso   João Silva           Banco   \n",
      "15   2-Out-2019         Norte           Rondônia   Ana Santos         Cortina   \n",
      "3   22-Jul-2019         Norte               Pará   João Silva            Cama   \n",
      "13  17-Set-2019           Sul             Paraná  Maria Souza       Luminária   \n",
      "0    7-Jul-2019         Norte           Amazonas   João Silva            Mesa   \n",
      "4   29-Jul-2019      Nordeste              Bahia   Ana Santos    Guarda-roupa   \n",
      "7   12-Ago-2019           Sul     Santa Catarina   Ana Santos  Mesa de Centro   \n",
      "9   21-Ago-2019           Sul  Rio Grande do Sul  Maria Souza     Criado-mudo   \n",
      "10  28-Ago-2019       Sudeste       Minas Gerais   Pedro Lima        Poltrona   \n",
      "11   3-Set-2019      Nordeste              Ceará   Ana Santos       Cabeceira   \n",
      "14  24-Set-2019       Sudeste     Espírito Santo   Pedro Lima          Tapete   \n",
      "2   15-Jul-2019       Sudeste          São Paulo   Pedro Lima            Sofá   \n",
      "5    1-Ago-2019       Sudeste     Rio de Janeiro  Maria Souza          Cômoda   \n",
      "8   19-Ago-2019         Norte           Amazonas   João Silva         Estante   \n",
      "\n",
      "    Unidades  PrecoUnidade  \n",
      "6          5          75.0  \n",
      "1          4          50.0  \n",
      "12         4          50.0  \n",
      "15         4          80.0  \n",
      "3          3         200.0  \n",
      "13         3          60.0  \n",
      "0          2         150.5  \n",
      "4          2         450.0  \n",
      "7          2         120.0  \n",
      "9          2          80.0  \n",
      "10         2         350.0  \n",
      "11         2         100.0  \n",
      "14         2         120.0  \n",
      "2          1         800.0  \n",
      "5          1         300.0  \n",
      "8          1         280.0  \n"
     ]
    }
   ],
   "source": [
    "#ordenação de valores\n",
    "print(df.sort_values(by='Unidades', ascending=False))"
   ]
  },
  {
   "cell_type": "code",
   "execution_count": 14,
   "metadata": {},
   "outputs": [
    {
     "name": "stdout",
     "output_type": "stream",
     "text": [
      "Estado\n",
      "Amazonas             2\n",
      "Rio Grande do Sul    2\n",
      "São Paulo            1\n",
      "Pará                 1\n",
      "Bahia                1\n",
      "Rio de Janeiro       1\n",
      "Goiás                1\n",
      "Santa Catarina       1\n",
      "Minas Gerais         1\n",
      "Ceará                1\n",
      "Mato Grosso          1\n",
      "Paraná               1\n",
      "Espírito Santo       1\n",
      "Rondônia             1\n",
      "Name: count, dtype: int64\n"
     ]
    }
   ],
   "source": [
    "#estados com mais vendas\n",
    "print(df['Estado'].value_counts())"
   ]
  }
 ],
 "metadata": {
  "kernelspec": {
   "display_name": "base",
   "language": "python",
   "name": "python3"
  },
  "language_info": {
   "codemirror_mode": {
    "name": "ipython",
    "version": 3
   },
   "file_extension": ".py",
   "mimetype": "text/x-python",
   "name": "python",
   "nbconvert_exporter": "python",
   "pygments_lexer": "ipython3",
   "version": "3.11.7"
  }
 },
 "nbformat": 4,
 "nbformat_minor": 2
}
