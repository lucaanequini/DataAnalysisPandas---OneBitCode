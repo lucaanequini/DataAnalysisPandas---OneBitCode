{
 "cells": [
  {
   "cell_type": "code",
   "execution_count": 12,
   "metadata": {},
   "outputs": [],
   "source": [
    "import pandas as pd\n",
    "import matplotlib.pyplot as plt"
   ]
  },
  {
   "cell_type": "code",
   "execution_count": 13,
   "metadata": {},
   "outputs": [
    {
     "name": "stdout",
     "output_type": "stream",
     "text": [
      "      Nome  Idade        Cargo  Salario\n",
      "0    Alice     25     Analista     5000\n",
      "1      Bob     30      Gerente     8000\n",
      "2  Charlie     35          CEO    15000\n",
      "3    David     40     Analista     4800\n",
      "4    Emily     27  Coordenador     6000\n"
     ]
    }
   ],
   "source": [
    "data = {\n",
    "    'Nome': ['Alice', 'Bob', 'Charlie', 'David', 'Emily'],\n",
    "    'Idade':[25, 30, 35, 40, 27],\n",
    "    'Cargo':['Analista', 'Gerente', 'CEO', 'Analista', 'Coordenador'],\n",
    "    'Salario':[5000, 8000, 15000, 4800, 6000]\n",
    "}\n",
    "\n",
    "df = pd.DataFrame(data)\n",
    "print(df)"
   ]
  },
  {
   "cell_type": "code",
   "execution_count": 14,
   "metadata": {},
   "outputs": [
    {
     "name": "stdout",
     "output_type": "stream",
     "text": [
      "    Nome  Idade     Cargo  Salario\n",
      "0  Alice     25  Analista     5000\n",
      "1    Bob     30   Gerente     8000\n"
     ]
    }
   ],
   "source": [
    "#primeiras lihas\n",
    "print(df.head(2))"
   ]
  },
  {
   "cell_type": "code",
   "execution_count": 15,
   "metadata": {},
   "outputs": [
    {
     "name": "stdout",
     "output_type": "stream",
     "text": [
      "<class 'pandas.core.frame.DataFrame'>\n",
      "RangeIndex: 5 entries, 0 to 4\n",
      "Data columns (total 4 columns):\n",
      " #   Column   Non-Null Count  Dtype \n",
      "---  ------   --------------  ----- \n",
      " 0   Nome     5 non-null      object\n",
      " 1   Idade    5 non-null      int64 \n",
      " 2   Cargo    5 non-null      object\n",
      " 3   Salario  5 non-null      int64 \n",
      "dtypes: int64(2), object(2)\n",
      "memory usage: 292.0+ bytes\n",
      "None\n"
     ]
    }
   ],
   "source": [
    "#infos sobre o df \n",
    "print(df.info())"
   ]
  },
  {
   "cell_type": "code",
   "execution_count": 16,
   "metadata": {},
   "outputs": [
    {
     "name": "stdout",
     "output_type": "stream",
     "text": [
      "           Idade       Salario\n",
      "count   5.000000      5.000000\n",
      "mean   31.400000   7760.000000\n",
      "std     6.107373   4241.226238\n",
      "min    25.000000   4800.000000\n",
      "25%    27.000000   5000.000000\n",
      "50%    30.000000   6000.000000\n",
      "75%    35.000000   8000.000000\n",
      "max    40.000000  15000.000000\n"
     ]
    }
   ],
   "source": [
    "#estatisticas descritivas\n",
    "print(df.describe())"
   ]
  },
  {
   "cell_type": "code",
   "execution_count": 17,
   "metadata": {},
   "outputs": [
    {
     "name": "stdout",
     "output_type": "stream",
     "text": [
      "      Nome  Idade        Cargo  Salario\n",
      "1      Bob     30      Gerente     8000\n",
      "2  Charlie     35          CEO    15000\n",
      "4    Emily     27  Coordenador     6000\n"
     ]
    }
   ],
   "source": [
    "#condição\n",
    "print(df[df['Salario'] > 5000])"
   ]
  },
  {
   "cell_type": "code",
   "execution_count": 18,
   "metadata": {},
   "outputs": [
    {
     "name": "stdout",
     "output_type": "stream",
     "text": [
      "      Nome  Idade        Cargo  Salario\n",
      "3    David     40     Analista     4800\n",
      "2  Charlie     35          CEO    15000\n",
      "1      Bob     30      Gerente     8000\n",
      "4    Emily     27  Coordenador     6000\n",
      "0    Alice     25     Analista     5000\n"
     ]
    }
   ],
   "source": [
    "#ordenação\n",
    "print(df.sort_values(by='Idade', ascending=False))"
   ]
  },
  {
   "cell_type": "code",
   "execution_count": 19,
   "metadata": {},
   "outputs": [
    {
     "name": "stdout",
     "output_type": "stream",
     "text": [
      "      Nome  Idade        Cargo  Salario   Bonus\n",
      "0    Alice     25     Analista     5000   500.0\n",
      "1      Bob     30      Gerente     8000   800.0\n",
      "2  Charlie     35          CEO    15000  1500.0\n",
      "3    David     40     Analista     4800   480.0\n",
      "4    Emily     27  Coordenador     6000   600.0\n"
     ]
    }
   ],
   "source": [
    "#adicionando coluna calculada\n",
    "df['Bonus'] = df['Salario'] * 0.1\n",
    "print(df)"
   ]
  },
  {
   "cell_type": "code",
   "execution_count": 20,
   "metadata": {},
   "outputs": [
    {
     "name": "stdout",
     "output_type": "stream",
     "text": [
      "Cargo\n",
      "Analista        4900.0\n",
      "CEO            15000.0\n",
      "Coordenador     6000.0\n",
      "Gerente         8000.0\n",
      "Name: Salario, dtype: float64\n"
     ]
    }
   ],
   "source": [
    "#agrupamento e agregação\n",
    "print(df.groupby('Cargo')['Salario'].mean())"
   ]
  },
  {
   "cell_type": "code",
   "execution_count": 21,
   "metadata": {},
   "outputs": [
    {
     "data": {
      "image/png": "[encoded data removed]",
      "text/plain": [
       "<Figure size 640x480 with 1 Axes>"
      ]
     },
     "metadata": {},
     "output_type": "display_data"
    }
   ],
   "source": [
    "#visualização básica\n",
    "df.plot(\n",
    "    kind='bar',\n",
    "    x='Nome',\n",
    "    y='Salario',\n",
    "    title='Salário dos Funcionários',\n",
    "    rot=45\n",
    ")\n",
    "\n",
    "plt.show()"
   ]
  }
 ],
 "metadata": {
  "kernelspec": {
   "display_name": "base",
   "language": "python",
   "name": "python3"
  },
  "language_info": {
   "codemirror_mode": {
    "name": "ipython",
    "version": 3
   },
   "file_extension": ".py",
   "mimetype": "text/x-python",
   "name": "python",
   "nbconvert_exporter": "python",
   "pygments_lexer": "ipython3",
   "version": "3.11.7"
  }
 },
 "nbformat": 4,
 "nbformat_minor": 2
}
