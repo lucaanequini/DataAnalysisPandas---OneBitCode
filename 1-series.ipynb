{
 "cells": [
  {
   "cell_type": "code",
   "execution_count": 4,
   "metadata": {},
   "outputs": [],
   "source": [
    "import pandas as pd"
   ]
  },
  {
   "cell_type": "code",
   "execution_count": 5,
   "metadata": {},
   "outputs": [],
   "source": [
    "dados = {\n",
    "    'Real Madrid': 34,\n",
    "    'Barcelona': 26,\n",
    "    'Liverpool':19,\n",
    "    'Juventus':36,\n",
    "    'Bayern Munich':30\n",
    "}"
   ]
  },
  {
   "cell_type": "code",
   "execution_count": 6,
   "metadata": {},
   "outputs": [
    {
     "name": "stdout",
     "output_type": "stream",
     "text": [
      "Real Madrid      34\n",
      "Barcelona        26\n",
      "Liverpool        19\n",
      "Juventus         36\n",
      "Bayern Munich    30\n",
      "dtype: int64\n",
      "<class 'pandas.core.series.Series'>\n"
     ]
    }
   ],
   "source": [
    "series_times = pd.Series(dados)\n",
    "print(series_times)\n",
    "print(type(series_times))"
   ]
  },
  {
   "cell_type": "code",
   "execution_count": 8,
   "metadata": {},
   "outputs": [
    {
     "name": "stdout",
     "output_type": "stream",
     "text": [
      "34\n",
      "19\n"
     ]
    }
   ],
   "source": [
    "#por índice\n",
    "print(series_times['Real Madrid'])\n",
    "print(series_times.iloc[2]) #liverpool"
   ]
  },
  {
   "cell_type": "code",
   "execution_count": 9,
   "metadata": {},
   "outputs": [
    {
     "name": "stdout",
     "output_type": "stream",
     "text": [
      "Barcelona    26\n",
      "Liverpool    19\n",
      "Juventus     36\n",
      "dtype: int64\n"
     ]
    }
   ],
   "source": [
    "#por fatiamento\n",
    "print(series_times['Barcelona':'Juventus']) #inclusivo"
   ]
  },
  {
   "cell_type": "code",
   "execution_count": 11,
   "metadata": {},
   "outputs": [
    {
     "name": "stdout",
     "output_type": "stream",
     "text": [
      "Real Madrid    34\n",
      "Juventus       36\n",
      "dtype: int64\n"
     ]
    }
   ],
   "source": [
    "#condição\n",
    "print(series_times[series_times > 30])"
   ]
  }
 ],
 "metadata": {
  "kernelspec": {
   "display_name": "base",
   "language": "python",
   "name": "python3"
  },
  "language_info": {
   "codemirror_mode": {
    "name": "ipython",
    "version": 3
   },
   "file_extension": ".py",
   "mimetype": "text/x-python",
   "name": "python",
   "nbconvert_exporter": "python",
   "pygments_lexer": "ipython3",
   "version": "3.11.7"
  }
 },
 "nbformat": 4,
 "nbformat_minor": 2
}
