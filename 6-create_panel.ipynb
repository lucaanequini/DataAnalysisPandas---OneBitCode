{
 "cells": [
  {
   "cell_type": "code",
   "execution_count": 7,
   "metadata": {},
   "outputs": [],
   "source": [
    "import pandas as pd\n",
    "\n",
    "data = {\n",
    "    'Título':['Aventuras no Espaço', 'O Mistério do Castelo', 'História Antiga', 'A Arte da Guerra'],\n",
    "    'Autor':['João Silva', 'Maria Santos', 'Pedro Oliveira', 'Ana Costa'],\n",
    "    'Gênero':['Ficção Científica', 'Mistério', 'História', 'Filosofia'],\n",
    "    'Ano de Publicação':[2015, 2018, 2016, 2014],\n",
    "    'Preço (R$)':[25.50, 19.99, 30.00, 15.75],\n",
    "    'Quantidade':[100, 85, 120, 150]\n",
    "}\n"
   ]
  },
  {
   "cell_type": "code",
   "execution_count": 8,
   "metadata": {},
   "outputs": [
    {
     "name": "stdout",
     "output_type": "stream",
     "text": [
      "                  Título           Autor             Gênero  \\\n",
      "0    Aventuras no Espaço      João Silva  Ficção Científica   \n",
      "1  O Mistério do Castelo    Maria Santos           Mistério   \n",
      "2        História Antiga  Pedro Oliveira           História   \n",
      "3       A Arte da Guerra       Ana Costa          Filosofia   \n",
      "\n",
      "   Ano de Publicação  Preço (R$)  Quantidade  \n",
      "0               2015       25.50         100  \n",
      "1               2018       19.99          85  \n",
      "2               2016       30.00         120  \n",
      "3               2014       15.75         150  \n"
     ]
    }
   ],
   "source": [
    "df = pd.DataFrame(data)\n",
    "print(df)"
   ]
  },
  {
   "cell_type": "code",
   "execution_count": 9,
   "metadata": {},
   "outputs": [
    {
     "name": "stdout",
     "output_type": "stream",
     "text": [
      "Arquivo: data/livros.xlsx criado com sucesso!\n"
     ]
    }
   ],
   "source": [
    "nome_arquivo = 'data/livros.xlsx'\n",
    "df.to_excel(nome_arquivo, index=False)\n",
    "\n",
    "print(f'Arquivo: {nome_arquivo} criado com sucesso!')"
   ]
  }
 ],
 "metadata": {
  "kernelspec": {
   "display_name": "base",
   "language": "python",
   "name": "python3"
  },
  "language_info": {
   "codemirror_mode": {
    "name": "ipython",
    "version": 3
   },
   "file_extension": ".py",
   "mimetype": "text/x-python",
   "name": "python",
   "nbconvert_exporter": "python",
   "pygments_lexer": "ipython3",
   "version": "3.11.7"
  }
 },
 "nbformat": 4,
 "nbformat_minor": 2
}
