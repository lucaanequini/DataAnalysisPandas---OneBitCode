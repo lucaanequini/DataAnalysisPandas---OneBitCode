{
 "cells": [
  {
   "cell_type": "code",
   "execution_count": 4,
   "metadata": {},
   "outputs": [],
   "source": [
    "import pandas as pd"
   ]
  },
  {
   "cell_type": "code",
   "execution_count": 5,
   "metadata": {},
   "outputs": [
    {
     "name": "stdout",
     "output_type": "stream",
     "text": [
      "                  Título           Autor             Gênero  \\\n",
      "0    Aventuras no Espaço      João Silva  Ficção Científica   \n",
      "1  O Mistério do Castelo    Maria Santos           Mistério   \n",
      "2        História Antiga  Pedro Oliveira           História   \n",
      "3       A Arte da Guerra       Ana Costa          Filosofia   \n",
      "\n",
      "   Ano de Publicação  Preço (R$)  Quantidade  \n",
      "0               2015       25.50         100  \n",
      "1               2018       19.99          85  \n",
      "2               2016       30.00         120  \n",
      "3               2014       15.75         150  \n"
     ]
    }
   ],
   "source": [
    "caminho_arquivo = 'data/livros.xlsx'\n",
    "df = pd.read_excel(caminho_arquivo)\n",
    "print(df)"
   ]
  },
  {
   "cell_type": "code",
   "execution_count": 6,
   "metadata": {},
   "outputs": [
    {
     "name": "stdout",
     "output_type": "stream",
     "text": [
      "                  Título           Autor             Gênero  \\\n",
      "0    Aventuras no Espaço      João Silva  Ficção Científica   \n",
      "1  O Mistério do Castelo    Maria Santos           Mistério   \n",
      "2        História Antiga  Pedro Oliveira           História   \n",
      "3       A Arte da Guerra       Ana Costa          Filosofia   \n",
      "\n",
      "   Ano de Publicação  Preço (R$)  Quantidade  \n",
      "0               2015       25.50         100  \n",
      "1               2018       19.99          85  \n",
      "2               2016       30.00         120  \n",
      "3               2014       15.75         150  \n",
      "                  Título           Autor             Gênero  \\\n",
      "0    Aventuras no Espaço      João Silva  Ficção Científica   \n",
      "1  O Mistério do Castelo    Maria Santos           Mistério   \n",
      "2        História Antiga  Pedro Oliveira           História   \n",
      "3       A Arte da Guerra       Ana Costa          Filosofia   \n",
      "\n",
      "   Ano de Publicação  Preço (R$)  Quantidade  \n",
      "0               2015       25.50         100  \n",
      "1               2018       19.99          85  \n",
      "2               2016       30.00         120  \n",
      "3               2014       15.75         150  \n"
     ]
    }
   ],
   "source": [
    "print(df.head())\n",
    "print(df.tail())"
   ]
  },
  {
   "cell_type": "code",
   "execution_count": 7,
   "metadata": {},
   "outputs": [
    {
     "name": "stdout",
     "output_type": "stream",
     "text": [
      "Título                object\n",
      "Autor                 object\n",
      "Gênero                object\n",
      "Ano de Publicação      int64\n",
      "Preço (R$)           float64\n",
      "Quantidade             int64\n",
      "dtype: object\n"
     ]
    }
   ],
   "source": [
    "print(df.dtypes)"
   ]
  },
  {
   "cell_type": "code",
   "execution_count": 9,
   "metadata": {},
   "outputs": [
    {
     "name": "stdout",
     "output_type": "stream",
     "text": [
      "       Ano de Publicação  Preço (R$)  Quantidade\n",
      "count           4.000000     4.00000    4.000000\n",
      "mean         2015.750000    22.81000  113.750000\n",
      "std             1.707825     6.23774   28.099526\n",
      "min          2014.000000    15.75000   85.000000\n",
      "25%          2014.750000    18.93000   96.250000\n",
      "50%          2015.500000    22.74500  110.000000\n",
      "75%          2016.500000    26.62500  127.500000\n",
      "max          2018.000000    30.00000  150.000000 \n",
      "\n",
      "       Preço (R$)  Quantidade\n",
      "count     4.00000    4.000000\n",
      "mean     22.81000  113.750000\n",
      "std       6.23774   28.099526\n",
      "min      15.75000   85.000000\n",
      "25%      18.93000   96.250000\n",
      "50%      22.74500  110.000000\n",
      "75%      26.62500  127.500000\n",
      "max      30.00000  150.000000\n"
     ]
    }
   ],
   "source": [
    "#estatisticas descritivas\n",
    "print(df.describe(), '\\n')\n",
    "print(df[['Preço (R$)', 'Quantidade']].describe())"
   ]
  }
 ],
 "metadata": {
  "kernelspec": {
   "display_name": "base",
   "language": "python",
   "name": "python3"
  },
  "language_info": {
   "codemirror_mode": {
    "name": "ipython",
    "version": 3
   },
   "file_extension": ".py",
   "mimetype": "text/x-python",
   "name": "python",
   "nbconvert_exporter": "python",
   "pygments_lexer": "ipython3",
   "version": "3.11.7"
  }
 },
 "nbformat": 4,
 "nbformat_minor": 2
}
