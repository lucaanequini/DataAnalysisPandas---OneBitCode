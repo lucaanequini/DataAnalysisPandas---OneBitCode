{
 "cells": [
  {
   "cell_type": "code",
   "execution_count": 7,
   "metadata": {},
   "outputs": [],
   "source": [
    "import pandas as pd"
   ]
  },
  {
   "cell_type": "code",
   "execution_count": 8,
   "metadata": {},
   "outputs": [],
   "source": [
    "caminho_arquivo = 'data/livros.xlsx'\n",
    "df = pd.read_excel(caminho_arquivo)"
   ]
  },
  {
   "cell_type": "code",
   "execution_count": 10,
   "metadata": {},
   "outputs": [
    {
     "name": "stdout",
     "output_type": "stream",
     "text": [
      "                   Título  Preço (R$)\n",
      "Gênero                               \n",
      "Ficção Científica       1       25.50\n",
      "Filosofia               1       15.75\n",
      "História                1       30.00\n",
      "Mistério                1       19.99\n"
     ]
    }
   ],
   "source": [
    "#gêneros - qtd de livros e preço médio\n",
    "genero_info = df.groupby('Gênero').agg({\n",
    "    'Título': 'count',\n",
    "    'Preço (R$)': 'mean'\n",
    "})\n",
    "\n",
    "print(genero_info)"
   ]
  },
  {
   "cell_type": "code",
   "execution_count": 12,
   "metadata": {},
   "outputs": [
    {
     "name": "stdout",
     "output_type": "stream",
     "text": [
      "Livro mais barato:              Título      Autor     Gênero  Ano de Publicação  Preço (R$)  \\\n",
      "3  A Arte da Guerra  Ana Costa  Filosofia               2014       15.75   \n",
      "\n",
      "   Quantidade  \n",
      "3         150  \n",
      "\n",
      "Livro mais caro:             Título           Autor    Gênero  Ano de Publicação  Preço (R$)  \\\n",
      "2  História Antiga  Pedro Oliveira  História               2016        30.0   \n",
      "\n",
      "   Quantidade  \n",
      "2         120  \n"
     ]
    }
   ],
   "source": [
    "#livro mais caro e mais barato\n",
    "livro_mais_caro = df[df['Preço (R$)'] == df ['Preço (R$)'].max()]\n",
    "livro_mais_barato = df[df['Preço (R$)'] == df ['Preço (R$)'].min()]\n",
    "\n",
    "print(f'Livro mais barato: {livro_mais_barato}\\n\\nLivro mais caro: {livro_mais_caro}')"
   ]
  },
  {
   "cell_type": "code",
   "execution_count": 13,
   "metadata": {},
   "outputs": [
    {
     "name": "stdout",
     "output_type": "stream",
     "text": [
      "Ano de Publicação\n",
      "2015    1\n",
      "2018    1\n",
      "2016    1\n",
      "2014    1\n",
      "Name: count, dtype: int64\n"
     ]
    }
   ],
   "source": [
    "#distribuição de ano da publicação\n",
    "print(df['Ano de Publicação'].value_counts())"
   ]
  },
  {
   "cell_type": "code",
   "execution_count": 14,
   "metadata": {},
   "outputs": [
    {
     "name": "stdout",
     "output_type": "stream",
     "text": [
      "-0.3174013932207218\n"
     ]
    }
   ],
   "source": [
    "#correlação preço x quantidade\n",
    "correlacao = df['Preço (R$)'].corr(df['Quantidade'])\n",
    "print(correlacao)"
   ]
  }
 ],
 "metadata": {
  "kernelspec": {
   "display_name": "base",
   "language": "python",
   "name": "python3"
  },
  "language_info": {
   "codemirror_mode": {
    "name": "ipython",
    "version": 3
   },
   "file_extension": ".py",
   "mimetype": "text/x-python",
   "name": "python",
   "nbconvert_exporter": "python",
   "pygments_lexer": "ipython3",
   "version": "3.11.7"
  }
 },
 "nbformat": 4,
 "nbformat_minor": 2
}
