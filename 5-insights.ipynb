{
 "cells": [
  {
   "cell_type": "code",
   "execution_count": 2,
   "metadata": {},
   "outputs": [],
   "source": [
    "import pandas as pd\n",
    "\n",
    "df = pd.read_csv('data/pedidos.csv')"
   ]
  },
  {
   "cell_type": "code",
   "execution_count": 3,
   "metadata": {},
   "outputs": [],
   "source": [
    "#conversão para tipo numérico\n",
    "df['Unidades'] = pd.to_numeric(df['Unidades'])\n",
    "df['PrecoUnidade'] = pd.to_numeric(df['PrecoUnidade'])"
   ]
  },
  {
   "cell_type": "code",
   "execution_count": 4,
   "metadata": {},
   "outputs": [
    {
     "name": "stdout",
     "output_type": "stream",
     "text": [
      "Regiao\n",
      "Centro-Oeste     9\n",
      "Nordeste         4\n",
      "Norte           10\n",
      "Sudeste          6\n",
      "Sul             11\n",
      "Name: Unidades, dtype: int64\n"
     ]
    }
   ],
   "source": [
    "#desempenho de vendas por região\n",
    "vendas_regiao = df.groupby('Regiao')['Unidades'].sum()\n",
    "print(vendas_regiao)"
   ]
  },
  {
   "cell_type": "code",
   "execution_count": 5,
   "metadata": {},
   "outputs": [
    {
     "name": "stdout",
     "output_type": "stream",
     "text": [
      "Ana Santos\n"
     ]
    }
   ],
   "source": [
    "#vendedor mais produtivo\n",
    "vendas_vendedor = df.groupby('Vendedor')['Unidades'].sum()\n",
    "print(vendas_vendedor.idxmax())"
   ]
  },
  {
   "cell_type": "code",
   "execution_count": 6,
   "metadata": {},
   "outputs": [
    {
     "name": "stdout",
     "output_type": "stream",
     "text": [
      "Item\n",
      "Banco             4\n",
      "Cabeceira         2\n",
      "Cadeira           4\n",
      "Cama              3\n",
      "Cortina           4\n",
      "Criado-mudo       2\n",
      "Cômoda            1\n",
      "Espelho           5\n",
      "Estante           1\n",
      "Guarda-roupa      2\n",
      "Luminária         3\n",
      "Mesa              2\n",
      "Mesa de Centro    2\n",
      "Poltrona          2\n",
      "Sofá              1\n",
      "Tapete            2\n",
      "Name: Unidades, dtype: int64\n"
     ]
    }
   ],
   "source": [
    "#total de unidades vendidas por item\n",
    "total_unidades_item = df.groupby('Item')['Unidades'].sum()\n",
    "print(total_unidades_item)"
   ]
  },
  {
   "cell_type": "code",
   "execution_count": 7,
   "metadata": {},
   "outputs": [
    {
     "name": "stdout",
     "output_type": "stream",
     "text": [
      "Item\n",
      "Banco              50.0\n",
      "Cabeceira         100.0\n",
      "Cadeira            50.0\n",
      "Cama              200.0\n",
      "Cortina            80.0\n",
      "Criado-mudo        80.0\n",
      "Cômoda            300.0\n",
      "Espelho            75.0\n",
      "Estante           280.0\n",
      "Guarda-roupa      450.0\n",
      "Luminária          60.0\n",
      "Mesa              150.5\n",
      "Mesa de Centro    120.0\n",
      "Poltrona          350.0\n",
      "Sofá              800.0\n",
      "Tapete            120.0\n",
      "Name: PrecoUnidade, dtype: float64\n"
     ]
    }
   ],
   "source": [
    "#preço medio por item\n",
    "media_preco_item = df.groupby('Item')['PrecoUnidade'].mean()\n",
    "print(media_preco_item)"
   ]
  },
  {
   "cell_type": "code",
   "execution_count": 8,
   "metadata": {},
   "outputs": [
    {
     "name": "stdout",
     "output_type": "stream",
     "text": [
      "-0.5989503823611498\n"
     ]
    }
   ],
   "source": [
    "#correlacao unidades vendidas x preco unitario\n",
    "correlacao = df['Unidades'].corr(df['PrecoUnidade'])\n",
    "print(correlacao)"
   ]
  },
  {
   "cell_type": "code",
   "execution_count": 9,
   "metadata": {},
   "outputs": [
    {
     "name": "stdout",
     "output_type": "stream",
     "text": [
      "<class 'pandas.core.series.Series'>\n",
      "<class 'pandas.core.frame.DataFrame'>\n"
     ]
    }
   ],
   "source": [
    "#exportando para csv\n",
    "vendas_regiao = df.groupby('Regiao')['Unidades'].sum()\n",
    "print(type(vendas_regiao))\n",
    "\n",
    "vendas_regiao_df = vendas_regiao.reset_index()\n",
    "vendas_regiao_df.columns = ['Regiao', 'TotalUnidadesVendidas']\n",
    "\n",
    "print(type(vendas_regiao_df))\n",
    "\n",
    "vendas_regiao_df.to_csv('data/vendas_regiao.csv', index=False)"
   ]
  }
 ],
 "metadata": {
  "kernelspec": {
   "display_name": "base",
   "language": "python",
   "name": "python3"
  },
  "language_info": {
   "codemirror_mode": {
    "name": "ipython",
    "version": 3
   },
   "file_extension": ".py",
   "mimetype": "text/x-python",
   "name": "python",
   "nbconvert_exporter": "python",
   "pygments_lexer": "ipython3",
   "version": "3.11.7"
  }
 },
 "nbformat": 4,
 "nbformat_minor": 2
}
