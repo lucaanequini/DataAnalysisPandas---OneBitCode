{
 "cells": [
  {
   "cell_type": "code",
   "execution_count": 10,
   "metadata": {},
   "outputs": [],
   "source": [
    "import pandas as pd\n",
    "import sqlalchemy\n",
    "from sqlalchemy import create_engine"
   ]
  },
  {
   "cell_type": "code",
   "execution_count": 11,
   "metadata": {},
   "outputs": [],
   "source": [
    "engine = create_engine('sqlite:///pedidos.db')"
   ]
  },
  {
   "cell_type": "code",
   "execution_count": 12,
   "metadata": {},
   "outputs": [
    {
     "name": "stdout",
     "output_type": "stream",
     "text": [
      "Total de Vendas por região:\n",
      "\n",
      "         Regiao  Total_Unidades_Vendidas\n",
      "0  Centro-Oeste                        9\n",
      "1      Nordeste                        4\n",
      "2         Norte                       10\n",
      "3       Sudeste                        6\n",
      "4           Sul                       11\n"
     ]
    }
   ],
   "source": [
    "#total de vendas por regiao\n",
    "consulta_1 = \"SELECT Regiao, SUM(Unidades) AS Total_Unidades_Vendidas FROM pedidos GROUP BY Regiao\"\n",
    "resultado_1 = pd.read_sql_query(consulta_1, engine)\n",
    "print(\"Total de Vendas por região:\\n\")\n",
    "print(resultado_1)"
   ]
  },
  {
   "cell_type": "code",
   "execution_count": 13,
   "metadata": {},
   "outputs": [
    {
     "name": "stdout",
     "output_type": "stream",
     "text": [
      "     Vendedor  Total_Unidades_Vendidas\n",
      "0  Pedro Lima                       10\n"
     ]
    }
   ],
   "source": [
    "#vendedor com maior número de vendas\n",
    "consulta_2 = \"SELECT Vendedor, SUM(Unidades) AS Total_Unidades_Vendidas FROM pedidos GROUP BY Vendedor ORDER BY Total_Unidades_Vendidas DESC LIMIT 1\"\n",
    "resultado_2 = pd.read_sql_query(consulta_2, engine)\n",
    "print(resultado_2)"
   ]
  },
  {
   "cell_type": "code",
   "execution_count": 14,
   "metadata": {},
   "outputs": [
    {
     "name": "stdout",
     "output_type": "stream",
     "text": [
      "              Item  Total_Unidades_Vendidas\n",
      "0          Espelho                        5\n",
      "1          Cortina                        4\n",
      "2          Cadeira                        4\n",
      "3            Banco                        4\n",
      "4        Luminária                        3\n",
      "5             Cama                        3\n",
      "6           Tapete                        2\n",
      "7         Poltrona                        2\n",
      "8   Mesa de Centro                        2\n",
      "9             Mesa                        2\n",
      "10    Guarda-roupa                        2\n",
      "11     Criado-mudo                        2\n",
      "12       Cabeceira                        2\n",
      "13            Sofá                        1\n",
      "14         Estante                        1\n",
      "15          Cômoda                        1\n"
     ]
    }
   ],
   "source": [
    "#total de vendas por item\n",
    "consulta_3 = \"SELECT Item, SUM(Unidades) AS Total_Unidades_Vendidas FROM pedidos GROUP BY Item ORDER BY Total_Unidades_Vendidas DESC\" \n",
    "resultado_3 = pd.read_sql_query(consulta_3, engine)\n",
    "print(resultado_3)"
   ]
  },
  {
   "cell_type": "code",
   "execution_count": null,
   "metadata": {},
   "outputs": [],
   "source": [
    "#media de preço por item\n",
    "consulta_4 = \"SELECT Item, AVG(PrecoUnidade) AS Media_Preco_Unidade FROM pedidos GROUP BY Item\"\n",
    "resultado_4 = pd.read_sql_query(consulta_4, engine)\n",
    "print(resultado_4)"
   ]
  }
 ],
 "metadata": {
  "kernelspec": {
   "display_name": "base",
   "language": "python",
   "name": "python3"
  },
  "language_info": {
   "codemirror_mode": {
    "name": "ipython",
    "version": 3
   },
   "file_extension": ".py",
   "mimetype": "text/x-python",
   "name": "python",
   "nbconvert_exporter": "python",
   "pygments_lexer": "ipython3",
   "version": "3.11.7"
  }
 },
 "nbformat": 4,
 "nbformat_minor": 2
}
