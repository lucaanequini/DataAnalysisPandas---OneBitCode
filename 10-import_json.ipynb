{
 "cells": [
  {
   "cell_type": "code",
   "execution_count": 2,
   "metadata": {},
   "outputs": [],
   "source": [
    "import pandas as pd"
   ]
  },
  {
   "cell_type": "code",
   "execution_count": 3,
   "metadata": {},
   "outputs": [
    {
     "name": "stdout",
     "output_type": "stream",
     "text": [
      "                                              series\n",
      "0  {'titulo': 'Stranger Things', 'genero': 'Ficçã...\n",
      "1  {'titulo': 'Breaking Bad', 'genero': 'Drama', ...\n"
     ]
    }
   ],
   "source": [
    "df = pd.read_json('data/series.json')\n",
    "print(df)"
   ]
  },
  {
   "cell_type": "code",
   "execution_count": 4,
   "metadata": {},
   "outputs": [
    {
     "name": "stdout",
     "output_type": "stream",
     "text": [
      "   numero  episodios           titulo             genero ano_lancamento\n",
      "0       1          8  Stranger Things  Ficção Científica           2016\n",
      "1       2          9  Stranger Things  Ficção Científica           2016\n",
      "2       3          8  Stranger Things  Ficção Científica           2016\n",
      "3       4          9  Stranger Things  Ficção Científica           2016\n",
      "4       1          7     Breaking Bad              Drama           2008\n",
      "5       2         13     Breaking Bad              Drama           2008\n",
      "6       3         13     Breaking Bad              Drama           2008\n",
      "7       4         13     Breaking Bad              Drama           2008\n",
      "8       5         16     Breaking Bad              Drama           2008\n"
     ]
    }
   ],
   "source": [
    "#json_normalize para aplanar dados aninhados\n",
    "df_series = pd.json_normalize(\n",
    "    df['series'],\n",
    "    'temporadas',\n",
    "    ['titulo', 'genero', 'ano_lancamento']\n",
    ")\n",
    "\n",
    "print(df_series)"
   ]
  }
 ],
 "metadata": {
  "kernelspec": {
   "display_name": "base",
   "language": "python",
   "name": "python3"
  },
  "language_info": {
   "codemirror_mode": {
    "name": "ipython",
    "version": 3
   },
   "file_extension": ".py",
   "mimetype": "text/x-python",
   "name": "python",
   "nbconvert_exporter": "python",
   "pygments_lexer": "ipython3",
   "version": "3.11.7"
  }
 },
 "nbformat": 4,
 "nbformat_minor": 2
}
