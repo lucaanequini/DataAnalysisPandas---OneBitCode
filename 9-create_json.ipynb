{
 "cells": [
  {
   "cell_type": "code",
   "execution_count": 3,
   "metadata": {},
   "outputs": [],
   "source": [
    "import pandas as pd\n",
    "import json"
   ]
  },
  {
   "cell_type": "code",
   "execution_count": 4,
   "metadata": {},
   "outputs": [],
   "source": [
    "data = {\n",
    "    \"series\":[\n",
    "        {\n",
    "            \"titulo\":\"Stranger Things\",\n",
    "            \"genero\":\"Ficção Científica\",\n",
    "            \"ano_lancamento\":2016,\n",
    "            \"temporadas\":[\n",
    "                {\"numero\":1, \"episodios\":8},\n",
    "                {\"numero\":2, \"episodios\":9},\n",
    "                {\"numero\":3, \"episodios\":8},\n",
    "                {\"numero\":4, \"episodios\":9},\n",
    "            ]\n",
    "        },\n",
    "        {\n",
    "            \"titulo\":\"Breaking Bad\",\n",
    "            \"genero\":\"Drama\",\n",
    "            \"ano_lancamento\":2008,\n",
    "            \"temporadas\":[\n",
    "                {\"numero\":1, \"episodios\":7},\n",
    "                {\"numero\":2, \"episodios\":13},\n",
    "                {\"numero\":3, \"episodios\":13},\n",
    "                {\"numero\":4, \"episodios\":13},\n",
    "                {\"numero\":5, \"episodios\":16},\n",
    "            ]\n",
    "        },\n",
    "        \n",
    "    ]\n",
    "}"
   ]
  },
  {
   "cell_type": "code",
   "execution_count": 5,
   "metadata": {},
   "outputs": [],
   "source": [
    "with open('data/series.json', 'w') as file:\n",
    "    json.dump(data, file)"
   ]
  }
 ],
 "metadata": {
  "kernelspec": {
   "display_name": "base",
   "language": "python",
   "name": "python3"
  },
  "language_info": {
   "codemirror_mode": {
    "name": "ipython",
    "version": 3
   },
   "file_extension": ".py",
   "mimetype": "text/x-python",
   "name": "python",
   "nbconvert_exporter": "python",
   "pygments_lexer": "ipython3",
   "version": "3.11.7"
  }
 },
 "nbformat": 4,
 "nbformat_minor": 2
}
