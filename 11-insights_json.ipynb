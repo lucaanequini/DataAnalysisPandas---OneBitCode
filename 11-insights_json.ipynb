{
 "cells": [
  {
   "cell_type": "code",
   "execution_count": 3,
   "metadata": {},
   "outputs": [],
   "source": [
    "import pandas as pd\n",
    "\n",
    "df = pd.read_json('data/series.json')"
   ]
  },
  {
   "cell_type": "code",
   "execution_count": 4,
   "metadata": {},
   "outputs": [
    {
     "name": "stdout",
     "output_type": "stream",
     "text": [
      "[{'titulo': 'Stranger Things', 'genero': 'Ficção Científica', 'totalEpisodios': 34}, {'titulo': 'Breaking Bad', 'genero': 'Drama', 'totalEpisodios': 62}]\n"
     ]
    }
   ],
   "source": [
    "#análise total de episódios por série\n",
    "temporadas_expandidas = []\n",
    "for serie in df['series']:\n",
    "    total_episodios = sum(temporada['episodios'] for temporada in serie['temporadas'])\n",
    "    serie_info = {\n",
    "        'titulo': serie['titulo'],\n",
    "        'genero': serie['genero'],\n",
    "        'totalEpisodios': total_episodios\n",
    "    }\n",
    "    temporadas_expandidas.append(serie_info)\n",
    "\n",
    "print(temporadas_expandidas)"
   ]
  },
  {
   "cell_type": "code",
   "execution_count": 5,
   "metadata": {},
   "outputs": [
    {
     "name": "stdout",
     "output_type": "stream",
     "text": [
      "            titulo             genero  totalEpisodios\n",
      "0  Stranger Things  Ficção Científica              34\n",
      "1     Breaking Bad              Drama              62\n"
     ]
    }
   ],
   "source": [
    "#print(temporadas_expandidas)\n",
    "df_expandido = pd.DataFrame(temporadas_expandidas)\n",
    "print(df_expandido)"
   ]
  }
 ],
 "metadata": {
  "kernelspec": {
   "display_name": "base",
   "language": "python",
   "name": "python3"
  },
  "language_info": {
   "codemirror_mode": {
    "name": "ipython",
    "version": 3
   },
   "file_extension": ".py",
   "mimetype": "text/x-python",
   "name": "python",
   "nbconvert_exporter": "python",
   "pygments_lexer": "ipython3",
   "version": "3.11.7"
  }
 },
 "nbformat": 4,
 "nbformat_minor": 2
}
